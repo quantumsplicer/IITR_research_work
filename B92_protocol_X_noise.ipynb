{
 "cells": [
  {
   "cell_type": "code",
   "execution_count": 2,
   "metadata": {},
   "outputs": [],
   "source": [
    "import numpy as np\n",
    "from qiskit import QuantumCircuit, execute\n",
    "from qiskit.providers.aer import QasmSimulator\n",
    "from qiskit.visualization import *\n",
    "import qiskit\n",
    "import matplotlib.pyplot as plt"
   ]
  },
  {
   "cell_type": "code",
   "execution_count": 4,
   "metadata": {},
   "outputs": [],
   "source": [
    "num_qubits = 32"
   ]
  },
  {
   "cell_type": "code",
   "execution_count": 5,
   "metadata": {},
   "outputs": [],
   "source": [
    "def create_random_states():\n",
    "\n",
    "    alice_state = np.random.randint(0, 2, size=num_qubits)\n",
    "    bob_basis = np.random.randint(0, 2, size=num_qubits)\n",
    "#    print(f\"Alice's State:\\t {np.array2string(alice_state, separator='')}\")\n",
    "#    print(f\"Bob's Basis:\\t {np.array2string(bob_basis, separator='')}\")\n",
    "    \n",
    "    return alice_state, bob_basis"
   ]
  },
  {
   "cell_type": "code",
   "execution_count": 6,
   "metadata": {},
   "outputs": [],
   "source": [
    "# function to define the circuit for an exchange of bit string\n",
    "def make_b92_circ(enc_state, meas_basis, noise_prob):\n",
    "    \n",
    "    num_qubits = len(enc_state)\n",
    "\n",
    "    b92 = QuantumCircuit(num_qubits)\n",
    "\n",
    "    for index in range(len(enc_state)):\n",
    "        if enc_state[index] == 1:\n",
    "            b92.h(index)\n",
    "\n",
    "    b92.barrier()\n",
    "    \n",
    "    noise = []\n",
    "\n",
    "    for index in range(len(enc_state)):\n",
    "        if np.random.random() <= noise_prob:\n",
    "            b92.x(index)\n",
    "            noise.append(1)\n",
    "        else:\n",
    "            noise.append(0)\n",
    "            \n",
    "            \n",
    "    #print(f\"Noise:\\t\\t {np.array2string(np.array(list(noise), dtype=int), separator='')}\")\n",
    "    \n",
    "    b92.barrier()  \n",
    "\n",
    "    for index in range(len(meas_basis)):\n",
    "        if meas_basis[index] == 1:\n",
    "            b92.h(index)\n",
    "\n",
    "    # Do not change below this line\n",
    "    b92.measure_all()\n",
    "    return b92"
   ]
  },
  {
   "cell_type": "code",
   "execution_count": 7,
   "metadata": {},
   "outputs": [],
   "source": [
    "def b92_sifting(enc_state, meas_basis, meas_result):\n",
    "    \n",
    "    num_qubits = len(enc_state)\n",
    "    \n",
    "    sender_key = ''\n",
    "    receiver_key = ''\n",
    "    \n",
    "    for i in range(len(meas_result)):\n",
    "      if meas_result[i] == '1':\n",
    "        sender_key+=str(enc_state[i])\n",
    "        receiver_key+=str((meas_basis[i]+1)%2)\n",
    "        \n",
    "    return (sender_key, receiver_key)"
   ]
  },
  {
   "cell_type": "code",
   "execution_count": 8,
   "metadata": {},
   "outputs": [
    {
     "name": "stdout",
     "output_type": "stream",
     "text": [
      "Initial key length = 32\n",
      "\n",
      "\n",
      "Final average key length after 20 iterations =  8.05\n",
      "Key rate: 0.2515625\n",
      "\n",
      "\n",
      "Final average key length after 20 iterations =  9.2\n",
      "Key rate: 0.2875\n",
      "\n",
      "\n",
      "Final average key length after 20 iterations =  8.7\n",
      "Key rate: 0.271875\n",
      "\n",
      "\n",
      "Final average key length after 20 iterations =  11.5\n",
      "Key rate: 0.359375\n",
      "\n",
      "\n",
      "Final average key length after 20 iterations =  10.6\n",
      "Key rate: 0.33125\n",
      "\n",
      "\n",
      "Final average key length after 20 iterations =  12.4\n",
      "Key rate: 0.3875\n",
      "\n",
      "\n",
      "Final average key length after 20 iterations =  13.1\n",
      "Key rate: 0.409375\n",
      "\n",
      "\n",
      "Final average key length after 20 iterations =  13.9\n",
      "Key rate: 0.434375\n",
      "\n",
      "\n",
      "Final average key length after 20 iterations =  14.8\n",
      "Key rate: 0.4625\n",
      "\n",
      "\n",
      "Final average key length after 20 iterations =  15.55\n",
      "Key rate: 0.4859375\n",
      "\n",
      "\n",
      "Final average key length after 20 iterations =  16.0\n",
      "Key rate: 0.5\n",
      "\n",
      "\n",
      "Noise Probability:\t [0, 0.1, 0.2, 0.3, 0.4, 0.5, 0.6, 0.7, 0.8, 0.9, 1]\n",
      "The key rate:\t\t[0.2515625, 0.2875, 0.271875, 0.359375, 0.33125, 0.3875, 0.409375, 0.434375, 0.4625, 0.4859375, 0.5]\n"
     ]
    }
   ],
   "source": [
    "iterations = 20\n",
    "noise_prob = [0, 0.1, 0.2, 0.3, 0.4, 0.5, 0.6, 0.7, 0.8, 0.9, 1]\n",
    "key_rate_arr = []\n",
    "\n",
    "print(f\"Initial key length = {num_qubits}\")\n",
    "print(f\"\\n\")\n",
    "\n",
    "for noise in noise_prob:\n",
    "\n",
    "    key_list = []\n",
    "    #print(f\"For noise of {noise} all the values are: \")\n",
    "    for index in range (0,iterations):\n",
    "\n",
    "        alice_state, bob_basis = create_random_states()\n",
    "\n",
    "        #Alice sends the bits to Bob but Eve eavesdrops in between\n",
    "        b92_circ = make_b92_circ(alice_state, bob_basis, noise)\n",
    "\n",
    "        #final result got by Eve after measurement\n",
    "        bob_res = execute(\n",
    "                b92_circ.reverse_bits(),\n",
    "                backend=QasmSimulator(),\n",
    "                shots=1, \n",
    "            ).result().get_counts().most_frequent()\n",
    "\n",
    "    #   print(f\"Bob's result:\\t [{bob_res}]\")\n",
    "        # key sifting takes place to get the final key to be used\n",
    "        alice_key, bob_key = b92_sifting(alice_state, bob_basis, bob_res)\n",
    "\n",
    "    #     print(f\"Alice's final key: \\t{alice_key}\")\n",
    "    #     print(f\"Bob's final key: \\t{bob_key}\")\n",
    "        key_list.append(bob_key)\n",
    "        \n",
    "    #   print(f\"Final key: {bob_key} \")\n",
    "    \n",
    "    #print(key_list)\n",
    "    \n",
    "    avg_key_length = sum( map( len, key_list))/ len(key_list)\n",
    "    key_rate_arr.append(avg_key_length/num_qubits)\n",
    "    \n",
    "    #print(f\"Final average key length after {iterations} iterations =  {avg_key_length}\")\n",
    "    #print(f\"Key rate: {avg_key_length/num_qubits}\")\n",
    "    #print(f\"\\n\")\n",
    "    \n",
    "print(f\"Noise Probability:\\t {noise_prob}\")\n",
    "print(f\"The key rate:\\t\\t{key_rate_arr}\")"
   ]
  },
  {
   "cell_type": "code",
   "execution_count": 14,
   "metadata": {},
   "outputs": [
    {
     "data": {
      "image/png": "[encoded data removed]",
      "text/plain": [
       "<Figure size 432x288 with 1 Axes>"
      ]
     },
     "metadata": {
      "needs_background": "light"
     },
     "output_type": "display_data"
    }
   ],
   "source": [
    "plt.scatter(noise_prob,key_rate_arr, label=\"high bp low heartrate\",color=\"r\")\n",
    "plt.title(\"Scatter Plot for X noise\")\n",
    "plt.xlabel(\"Noise probabilities\")\n",
    "plt.ylabel(\"Error rates\")\n",
    "plt.legend()\n",
    "plt.show()"
   ]
  },
  {
   "cell_type": "code",
   "execution_count": null,
   "metadata": {},
   "outputs": [],
   "source": []
  }
 ],
 "metadata": {
  "kernelspec": {
   "display_name": "Python 3 (ipykernel)",
   "language": "python",
   "name": "python3"
  },
  "language_info": {
   "codemirror_mode": {
    "name": "ipython",
    "version": 3
   },
   "file_extension": ".py",
   "mimetype": "text/x-python",
   "name": "python",
   "nbconvert_exporter": "python",
   "pygments_lexer": "ipython3",
   "version": "3.8.10"
  }
 },
 "nbformat": 4,
 "nbformat_minor": 4
}
