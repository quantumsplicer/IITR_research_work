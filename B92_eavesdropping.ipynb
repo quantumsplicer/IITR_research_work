{
 "cells": [
  {
   "cell_type": "code",
   "execution_count": 1,
   "metadata": {},
   "outputs": [],
   "source": [
    "import numpy as np\n",
    "from qiskit import QuantumCircuit, execute\n",
    "from qiskit.providers.aer import QasmSimulator\n",
    "from qiskit.visualization import *\n",
    "import qiskit"
   ]
  },
  {
   "cell_type": "code",
   "execution_count": 23,
   "metadata": {},
   "outputs": [
    {
     "name": "stdout",
     "output_type": "stream",
     "text": [
      "[1 1 1 0 0 1 1 0 0 1 0 1 1 1 1 1 0 0 0 1 1 0 1 0 1 1 0 1 0 1 0 1]\n",
      "Alice's State:\t [11100110010111110001101011010101]\n",
      "Eve's State:\t [01101111100101010011010101001011]\n",
      "Bob's Basis:\t [00110101011111110011101000110011]\n",
      "32\n"
     ]
    }
   ],
   "source": [
    "num_qubits = 32\n",
    "\n",
    "alice_state = np.random.randint(0, 2, size=num_qubits)\n",
    "eve_basis = np.random.randint(0, 2, size=num_qubits)\n",
    "bob_basis = np.random.randint(0, 2, size=num_qubits)\n",
    "print (alice_state)\n",
    "print(f\"Alice's State:\\t {np.array2string(alice_state, separator='')}\")\n",
    "print(f\"Eve's State:\\t {np.array2string(eve_basis, separator='')}\")\n",
    "print(f\"Bob's Basis:\\t {np.array2string(bob_basis, separator='')}\")\n",
    "print (len(alice_state))"
   ]
  },
  {
   "cell_type": "code",
   "execution_count": 24,
   "metadata": {},
   "outputs": [],
   "source": [
    "# function to define the circuit for an exchange of bit string\n",
    "def make_b92_circ(enc_state, meas_basis):\n",
    "    \n",
    "    num_qubits = len(enc_state)\n",
    "\n",
    "    b92 = QuantumCircuit(num_qubits)\n",
    "\n",
    "    for index in range(len(enc_state)):\n",
    "      if enc_state[index] == 1:\n",
    "        b92.h(index)\n",
    "\n",
    "    \n",
    "    b92.barrier()  \n",
    "\n",
    "    for index in range(len(meas_basis)):\n",
    "      if meas_basis[index] == 1:\n",
    "        b92.h(index)\n",
    "\n",
    "    # Do not change below this line\n",
    "    b92.measure_all()\n",
    "    return b92"
   ]
  },
  {
   "cell_type": "code",
   "execution_count": 25,
   "metadata": {},
   "outputs": [
    {
     "name": "stdout",
     "output_type": "stream",
     "text": [
      "Eve's result:\t00000000010010000000100010001010\n",
      "Eve's result:\t[00000000010010000000100010001010]\n",
      "32\n"
     ]
    }
   ],
   "source": [
    "#Alice sends the bits to Bob but Eve eavesdrops in between\n",
    "b92_circ = make_b92_circ(alice_state, eve_basis)\n",
    "\n",
    "#final result got by Eve after measurement\n",
    "eve_res = execute(\n",
    "        b92_circ.reverse_bits(),\n",
    "        backend=QasmSimulator(),\n",
    "        shots=1, \n",
    "        seed_simulator=10\n",
    "    ).result().get_counts().most_frequent()\n",
    "\n",
    "print (\"Eve's result:\\t\" + eve_res)\n",
    "eve_state = np.array(list(eve_res), dtype=int)\n",
    "print(\"Eve's result:\\t\" + np.array2string(eve_state, separator=''))\n",
    "print(len(eve_state))"
   ]
  },
  {
   "cell_type": "code",
   "execution_count": 29,
   "metadata": {},
   "outputs": [
    {
     "name": "stdout",
     "output_type": "stream",
     "text": [
      "Eve's result:\t[01101111110111010011110111000001]\n",
      "Bob's measured result:\t 00000000001000000000000010100010\n"
     ]
    }
   ],
   "source": [
    "# Eve updates the state to send it to Bob\n",
    "eve_state = ''.join([str(int(eve_res[i]) ^ int(eve_basis[i])) for i in range(len(eve_res))])\n",
    "\n",
    "eve_state = np.array(list(eve_state), dtype=int)\n",
    "print(\"Eve's result:\\t\" + np.array2string(eve_state, separator=''))\n",
    "\n",
    "#Bob measures the circuit thinking that it was sent by Alice\n",
    "b92_circ2 = make_b92_circ(eve_state, bob_basis)\n",
    "\n",
    "bob_res = execute(\n",
    "        b92_circ2.reverse_bits(),\n",
    "        backend=QasmSimulator(),\n",
    "        shots=1, \n",
    "        seed_simulator=10\n",
    "    ).result().get_counts().most_frequent()\n",
    "\n",
    "print (f\"Bob's measured result:\\t {bob_res}\")"
   ]
  },
  {
   "cell_type": "code",
   "execution_count": 30,
   "metadata": {},
   "outputs": [],
   "source": [
    "def b92_sifting(enc_state, meas_basis, meas_result):\n",
    "    \n",
    "    num_qubits = len(enc_state)\n",
    "    \n",
    "    sender_key = ''\n",
    "    receiver_key = ''\n",
    "    \n",
    "    for i in range(len(meas_result)):\n",
    "      if meas_result[i] == '1':\n",
    "        sender_key+=str(enc_state[i])\n",
    "        receiver_key+=str((meas_basis[i]+1)%2)\n",
    "        \n",
    "    return (sender_key, receiver_key)"
   ]
  },
  {
   "cell_type": "code",
   "execution_count": 31,
   "metadata": {},
   "outputs": [
    {
     "name": "stdout",
     "output_type": "stream",
     "text": [
      "Alice's State:\t [11100110010111110001101011010101]\n",
      "Eve's State:\t [01101111100101010011010101001011]\n",
      "Bob's Basis:\t [00110101011111110011101000110011]\n",
      "Eve's result:\t [01101111110111010011110111000001]\n",
      "Alice's final key: \t0100\n",
      "Bob's final key: \t0100\n"
     ]
    }
   ],
   "source": [
    "# key sifting takes place to get the final key to be used\n",
    "alice_key, bob_key = b92_sifting(alice_state, bob_basis, bob_res)\n",
    "print(f\"Alice's State:\\t {np.array2string(alice_state, separator='')}\")\n",
    "print(f\"Eve's State:\\t {np.array2string(eve_basis, separator='')}\")\n",
    "print(f\"Bob's Basis:\\t {np.array2string(bob_basis, separator='')}\")\n",
    "print(f\"Eve's result:\\t {np.array2string(eve_state, separator='')}\")\n",
    "print(f\"Alice's final key: \\t{alice_key}\")\n",
    "print(f\"Bob's final key: \\t{bob_key}\")"
   ]
  },
  {
   "cell_type": "code",
   "execution_count": null,
   "metadata": {},
   "outputs": [],
   "source": []
  }
 ],
 "metadata": {
  "kernelspec": {
   "display_name": "Python 3",
   "language": "python",
   "name": "python3"
  },
  "language_info": {
   "codemirror_mode": {
    "name": "ipython",
    "version": 3
   },
   "file_extension": ".py",
   "mimetype": "text/x-python",
   "name": "python",
   "nbconvert_exporter": "python",
   "pygments_lexer": "ipython3",
   "version": "3.8.3"
  }
 },
 "nbformat": 4,
 "nbformat_minor": 4
}
