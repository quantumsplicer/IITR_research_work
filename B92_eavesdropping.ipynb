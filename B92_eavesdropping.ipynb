{
 "cells": [
  {
   "cell_type": "code",
   "execution_count": 1,
   "metadata": {},
   "outputs": [],
   "source": [
    "import numpy as np\n",
    "from qiskit import QuantumCircuit, execute\n",
    "from qiskit.providers.aer import QasmSimulator\n",
    "from qiskit.visualization import *\n",
    "import qiskit"
   ]
  },
  {
   "cell_type": "code",
   "execution_count": 20,
   "metadata": {},
   "outputs": [],
   "source": [
    "num_qubits = 32"
   ]
  },
  {
   "cell_type": "code",
   "execution_count": 12,
   "metadata": {},
   "outputs": [],
   "source": [
    "def create_random_states():\n",
    "\n",
    "    alice_state = np.random.randint(0, 2, size=num_qubits)\n",
    "    eve_basis = np.random.randint(0, 2, size=num_qubits)\n",
    "    bob_basis = np.random.randint(0, 2, size=num_qubits)\n",
    "#     print(f\"Alice's State:\\t {np.array2string(alice_state, separator='')}\")\n",
    "#     print(f\"Eve's Basis:\\t {np.array2string(eve_basis, separator='')}\")\n",
    "#     print(f\"Bob's Basis:\\t {np.array2string(bob_basis, separator='')}\")\n",
    "    \n",
    "    return alice_state, eve_basis, bob_basis"
   ]
  },
  {
   "cell_type": "code",
   "execution_count": 13,
   "metadata": {},
   "outputs": [],
   "source": [
    "# function to define the circuit for an exchange of bit string\n",
    "def make_b92_circ(enc_state, meas_basis):\n",
    "    \n",
    "    num_qubits = len(enc_state)\n",
    "\n",
    "    b92 = QuantumCircuit(num_qubits)\n",
    "\n",
    "    for index in range(len(enc_state)):\n",
    "      if enc_state[index] == 1:\n",
    "        b92.h(index)\n",
    "\n",
    "    \n",
    "    b92.barrier()  \n",
    "\n",
    "    for index in range(len(meas_basis)):\n",
    "      if meas_basis[index] == 1:\n",
    "        b92.h(index)\n",
    "\n",
    "    # Do not change below this line\n",
    "    b92.measure_all()\n",
    "    return b92"
   ]
  },
  {
   "cell_type": "code",
   "execution_count": 14,
   "metadata": {},
   "outputs": [],
   "source": [
    "# function to define the circuit for an exchange of bit string\n",
    "def make_eaves_circ(enc_basis, enc_state, meas_basis):\n",
    "    \n",
    "    num_qubits = len(enc_state)\n",
    "\n",
    "    b92 = QuantumCircuit(num_qubits)\n",
    "        \n",
    "    \n",
    "    for index in range(num_qubits):\n",
    "        if (enc_basis[index] == 0 and enc_state[index] == 1):\n",
    "            b92.x(index)\n",
    "        elif (enc_basis[index] == 1 and enc_state[index] == 0):\n",
    "            b92.h(index)\n",
    "        elif (enc_basis[index] == 1 and enc_state[index] == 1):\n",
    "            b92.x(index)\n",
    "            b92.h(index)\n",
    "            \n",
    "    for index in range(len(meas_basis)):\n",
    "        if meas_basis[index] == 1:\n",
    "            b92.h(index)\n",
    "    \n",
    "    \n",
    "    b92.measure_all()\n",
    "    return b92"
   ]
  },
  {
   "cell_type": "code",
   "execution_count": 15,
   "metadata": {},
   "outputs": [],
   "source": [
    "def b92_sifting(enc_state, meas_basis, meas_result):\n",
    "    \n",
    "    num_qubits = len(enc_state)\n",
    "    \n",
    "    sender_key = ''\n",
    "    receiver_key = ''\n",
    "    \n",
    "    for i in range(len(meas_result)):\n",
    "      if meas_result[i] == '1':\n",
    "        sender_key+=str(enc_state[i])\n",
    "        receiver_key+=str((meas_basis[i]+1)%2)\n",
    "        \n",
    "    return (sender_key, receiver_key)\n",
    "\n"
   ]
  },
  {
   "cell_type": "code",
   "execution_count": 21,
   "metadata": {},
   "outputs": [
    {
     "name": "stderr",
     "output_type": "stream",
     "text": [
      "Simulation failed and returned the following error message:\n",
      "ERROR:  [Experiment 0] QasmSimulator: Insufficient memory for 32-qubit circuit using \"statevector\" method. You could try using the \"matrix_product_state\" or \"extended_stabilizer\" method instead.\n"
     ]
    },
    {
     "ename": "QiskitError",
     "evalue": "'ERROR:  [Experiment 0] QasmSimulator: Insufficient memory for 32-qubit circuit using \"statevector\" method. You could try using the \"matrix_product_state\" or \"extended_stabilizer\" method instead. ,  ERROR: QasmSimulator: Insufficient memory for 32-qubit circuit using \"statevector\" method. You could try using the \"matrix_product_state\" or \"extended_stabilizer\" method instead.'",
     "output_type": "error",
     "traceback": [
      "\u001b[0;31m---------------------------------------------------------------------------\u001b[0m",
      "\u001b[0;31mQiskitError\u001b[0m                               Traceback (most recent call last)",
      "\u001b[0;32m<ipython-input-21-20fb739b8dad>\u001b[0m in \u001b[0;36m<module>\u001b[0;34m\u001b[0m\n\u001b[1;32m     28\u001b[0m     \u001b[0mb92_circ2\u001b[0m \u001b[0;34m=\u001b[0m \u001b[0mmake_eaves_circ\u001b[0m\u001b[0;34m(\u001b[0m\u001b[0meve_basis\u001b[0m\u001b[0;34m,\u001b[0m \u001b[0meve_state\u001b[0m\u001b[0;34m,\u001b[0m \u001b[0mbob_basis\u001b[0m\u001b[0;34m)\u001b[0m\u001b[0;34m\u001b[0m\u001b[0;34m\u001b[0m\u001b[0m\n\u001b[1;32m     29\u001b[0m \u001b[0;34m\u001b[0m\u001b[0m\n\u001b[0;32m---> 30\u001b[0;31m     bob_res = execute(\n\u001b[0m\u001b[1;32m     31\u001b[0m             \u001b[0mb92_circ2\u001b[0m\u001b[0;34m.\u001b[0m\u001b[0mreverse_bits\u001b[0m\u001b[0;34m(\u001b[0m\u001b[0;34m)\u001b[0m\u001b[0;34m,\u001b[0m\u001b[0;34m\u001b[0m\u001b[0;34m\u001b[0m\u001b[0m\n\u001b[1;32m     32\u001b[0m             \u001b[0mbackend\u001b[0m\u001b[0;34m=\u001b[0m\u001b[0mQasmSimulator\u001b[0m\u001b[0;34m(\u001b[0m\u001b[0;34m)\u001b[0m\u001b[0;34m,\u001b[0m\u001b[0;34m\u001b[0m\u001b[0;34m\u001b[0m\u001b[0m\n",
      "\u001b[0;32m~/anaconda3/lib/python3.8/site-packages/qiskit/result/result.py\u001b[0m in \u001b[0;36mget_counts\u001b[0;34m(self, experiment)\u001b[0m\n\u001b[1;32m    261\u001b[0m         \u001b[0mdict_list\u001b[0m \u001b[0;34m=\u001b[0m \u001b[0;34m[\u001b[0m\u001b[0;34m]\u001b[0m\u001b[0;34m\u001b[0m\u001b[0;34m\u001b[0m\u001b[0m\n\u001b[1;32m    262\u001b[0m         \u001b[0;32mfor\u001b[0m \u001b[0mkey\u001b[0m \u001b[0;32min\u001b[0m \u001b[0mexp_keys\u001b[0m\u001b[0;34m:\u001b[0m\u001b[0;34m\u001b[0m\u001b[0;34m\u001b[0m\u001b[0m\n\u001b[0;32m--> 263\u001b[0;31m             \u001b[0mexp\u001b[0m \u001b[0;34m=\u001b[0m \u001b[0mself\u001b[0m\u001b[0;34m.\u001b[0m\u001b[0m_get_experiment\u001b[0m\u001b[0;34m(\u001b[0m\u001b[0mkey\u001b[0m\u001b[0;34m)\u001b[0m\u001b[0;34m\u001b[0m\u001b[0;34m\u001b[0m\u001b[0m\n\u001b[0m\u001b[1;32m    264\u001b[0m             \u001b[0;32mtry\u001b[0m\u001b[0;34m:\u001b[0m\u001b[0;34m\u001b[0m\u001b[0;34m\u001b[0m\u001b[0m\n\u001b[1;32m    265\u001b[0m                 \u001b[0mheader\u001b[0m \u001b[0;34m=\u001b[0m \u001b[0mexp\u001b[0m\u001b[0;34m.\u001b[0m\u001b[0mheader\u001b[0m\u001b[0;34m.\u001b[0m\u001b[0mto_dict\u001b[0m\u001b[0;34m(\u001b[0m\u001b[0;34m)\u001b[0m\u001b[0;34m\u001b[0m\u001b[0;34m\u001b[0m\u001b[0m\n",
      "\u001b[0;32m~/anaconda3/lib/python3.8/site-packages/qiskit/result/result.py\u001b[0m in \u001b[0;36m_get_experiment\u001b[0;34m(self, key)\u001b[0m\n\u001b[1;32m    385\u001b[0m         \u001b[0mresult_status\u001b[0m \u001b[0;34m=\u001b[0m \u001b[0mgetattr\u001b[0m\u001b[0;34m(\u001b[0m\u001b[0mself\u001b[0m\u001b[0;34m,\u001b[0m \u001b[0;34m'status'\u001b[0m\u001b[0;34m,\u001b[0m \u001b[0;34m'Result was not successful'\u001b[0m\u001b[0;34m)\u001b[0m\u001b[0;34m\u001b[0m\u001b[0;34m\u001b[0m\u001b[0m\n\u001b[1;32m    386\u001b[0m         \u001b[0mexp_status\u001b[0m \u001b[0;34m=\u001b[0m \u001b[0mgetattr\u001b[0m\u001b[0;34m(\u001b[0m\u001b[0mexp\u001b[0m\u001b[0;34m,\u001b[0m \u001b[0;34m'status'\u001b[0m\u001b[0;34m,\u001b[0m \u001b[0;34m'Experiment was not successful'\u001b[0m\u001b[0;34m)\u001b[0m\u001b[0;34m\u001b[0m\u001b[0;34m\u001b[0m\u001b[0m\n\u001b[0;32m--> 387\u001b[0;31m         \u001b[0;32mraise\u001b[0m \u001b[0mQiskitError\u001b[0m\u001b[0;34m(\u001b[0m\u001b[0mresult_status\u001b[0m\u001b[0;34m,\u001b[0m \u001b[0;34m\", \"\u001b[0m\u001b[0;34m,\u001b[0m \u001b[0mexp_status\u001b[0m\u001b[0;34m)\u001b[0m\u001b[0;34m\u001b[0m\u001b[0;34m\u001b[0m\u001b[0m\n\u001b[0m",
      "\u001b[0;31mQiskitError\u001b[0m: 'ERROR:  [Experiment 0] QasmSimulator: Insufficient memory for 32-qubit circuit using \"statevector\" method. You could try using the \"matrix_product_state\" or \"extended_stabilizer\" method instead. ,  ERROR: QasmSimulator: Insufficient memory for 32-qubit circuit using \"statevector\" method. You could try using the \"matrix_product_state\" or \"extended_stabilizer\" method instead.'"
     ]
    }
   ],
   "source": [
    "key_list_bob = []\n",
    "diff_bits_rate = []\n",
    "same_key = 0\n",
    "iterations = 100\n",
    "\n",
    "for index in range (0,iterations):\n",
    "\n",
    "    alice_state, eve_basis, bob_basis = create_random_states()\n",
    "\n",
    "    #Alice sends the bits to Bob but Eve eavesdrops in between\n",
    "    b92_circ = make_b92_circ(alice_state, eve_basis)\n",
    "\n",
    "    #final result got by Eve after measurement\n",
    "    eve_res = execute(\n",
    "            b92_circ.reverse_bits(),\n",
    "            backend=QasmSimulator(),\n",
    "            shots=1\n",
    "        ).result().get_counts().most_frequent()\n",
    "\n",
    "    eve_state = np.array(list(eve_res), dtype=int)\n",
    "\n",
    "    # Eve updates the state to send it to Bob\n",
    "#     eve_state = ''.join([str(int(eve_res[i]) ^ int(eve_basis[i])) for i in range(len(eve_res))])\n",
    "\n",
    "#     eve_state = np.array(list(eve_state), dtype=int)\n",
    "\n",
    "    #Bob measures the circuit thinking that it was sent by Alice\n",
    "    b92_circ2 = make_eaves_circ(eve_basis, eve_state, bob_basis)\n",
    "\n",
    "    bob_res = execute(\n",
    "            b92_circ2.reverse_bits(),\n",
    "            backend=QasmSimulator(),\n",
    "            shots=1\n",
    "        ).result().get_counts().most_frequent()\n",
    "\n",
    "    \n",
    "#     print(f\"Eve's result:\\t {np.array2string(eve_state, separator='')}\")\n",
    "#     print (f\"Bob's measured result:\\t {bob_res}\")\n",
    "\n",
    "    # key sifting takes place to get the final key to be used\n",
    "    alice_key, bob_key = b92_sifting(alice_state, bob_basis, bob_res)\n",
    "    \n",
    "#     print(f\"Alice's final key: \\t{alice_key}\")\n",
    "#     print(f\"Bob's final key: \\t{bob_key}\")\n",
    "    key_list_bob.append(bob_key)\n",
    "    \n",
    "    same_bit = 0\n",
    "    \n",
    "    for i in range(len(bob_key)):\n",
    "        if bob_key[i] == alice_key[i]:\n",
    "            same_bit += 1\n",
    "    diff_bits_rate.append((len(bob_key)-same_bit)/len(bob_key))\n",
    "    \n",
    "    if alice_key == bob_key:\n",
    "        same_key += 1\n",
    "    \n",
    "avg_key_length = sum( map( len, key_list_bob))/ len( key_list_bob)\n",
    "avg_bit_error = sum( diff_bits_rate)*100/ len( diff_bits_rate)\n",
    "print(f\"Initial key length = {num_qubits}\")\n",
    "print(f\"Final average key length after {iterations} iterations =  {avg_key_length}\")\n",
    "print(f\"Keys are same {same_key} times out of {iterations}\")\n",
    "print(f\"Bit error rate is {avg_bit_error}%\")\n"
   ]
  },
  {
   "cell_type": "code",
   "execution_count": null,
   "metadata": {},
   "outputs": [],
   "source": []
  }
 ],
 "metadata": {
  "kernelspec": {
   "display_name": "Python 3 (ipykernel)",
   "language": "python",
   "name": "python3"
  },
  "language_info": {
   "codemirror_mode": {
    "name": "ipython",
    "version": 3
   },
   "file_extension": ".py",
   "mimetype": "text/x-python",
   "name": "python",
   "nbconvert_exporter": "python",
   "pygments_lexer": "ipython3",
   "version": "3.8.10"
  }
 },
 "nbformat": 4,
 "nbformat_minor": 4
}
