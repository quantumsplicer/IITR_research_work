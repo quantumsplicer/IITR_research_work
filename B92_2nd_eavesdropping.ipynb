{
 "cells": [
  {
   "cell_type": "code",
   "execution_count": 8,
   "metadata": {},
   "outputs": [],
   "source": [
    "import numpy as np\n",
    "from qiskit import QuantumCircuit, execute\n",
    "from qiskit.providers.aer import QasmSimulator\n",
    "from qiskit.visualization import *\n",
    "import qiskit"
   ]
  },
  {
   "cell_type": "code",
   "execution_count": 178,
   "metadata": {},
   "outputs": [],
   "source": [
    "num_qubits = 32"
   ]
  },
  {
   "cell_type": "code",
   "execution_count": 184,
   "metadata": {},
   "outputs": [],
   "source": [
    "def create_random_states():\n",
    "\n",
    "    alice_state = np.random.randint(0, 2, size=num_qubits)\n",
    "    eve_basis = np.random.randint(0, 2, size=num_qubits)\n",
    "    bob_basis = np.random.randint(0, 2, size=num_qubits)\n",
    "#     print(f\"Alice's State:\\t {np.array2string(alice_state, separator='')}\")\n",
    "#     print(f\"Eve's Basis:\\t {np.array2string(eve_basis, separator='')}\")\n",
    "#     print(f\"Bob's Basis:\\t {np.array2string(bob_basis, separator='')}\")\n",
    "    \n",
    "    return alice_state, eve_basis, bob_basis"
   ]
  },
  {
   "cell_type": "code",
   "execution_count": 185,
   "metadata": {},
   "outputs": [],
   "source": [
    "# function to define the circuit for an exchange of bit string\n",
    "def make_b92_circ(enc_state, meas_basis):\n",
    "    \n",
    "    num_qubits = len(enc_state)\n",
    "\n",
    "    b92 = QuantumCircuit(num_qubits)\n",
    "\n",
    "    for index in range(len(enc_state)):\n",
    "      if enc_state[index] == 1:\n",
    "        b92.h(index)\n",
    "\n",
    "    \n",
    "    b92.barrier()  \n",
    "\n",
    "    for index in range(len(meas_basis)):\n",
    "      if meas_basis[index] == 1:\n",
    "        b92.h(index)\n",
    "\n",
    "    # Do not change below this line\n",
    "    b92.measure_all()\n",
    "#     print(b92)\n",
    "    return b92"
   ]
  },
  {
   "cell_type": "code",
   "execution_count": 186,
   "metadata": {},
   "outputs": [],
   "source": [
    "# function to define the circuit for an exchange of bit string\n",
    "def make_eaves_circ(enc_basis, enc_state, meas_basis):\n",
    "    \n",
    "    num_qubits = len(enc_state)\n",
    "\n",
    "    b92 = QuantumCircuit(num_qubits)\n",
    "        \n",
    "    \n",
    "    for index in range(num_qubits):\n",
    "        if (enc_basis[index] == 0 and enc_state[index] == 1):\n",
    "            b92.h(index)\n",
    "        elif (enc_basis[index] == 1 and enc_state[index] == 0):\n",
    "            b92.h(index)\n",
    "            \n",
    "    for index in range(len(meas_basis)):\n",
    "        if meas_basis[index] == 1:\n",
    "            b92.h(index)\n",
    "    \n",
    "    \n",
    "    b92.measure_all()\n",
    "#     print(b92)\n",
    "    return b92"
   ]
  },
  {
   "cell_type": "code",
   "execution_count": 187,
   "metadata": {},
   "outputs": [],
   "source": [
    "def b92_sifting(enc_state, meas_basis, meas_result):\n",
    "    \n",
    "    num_qubits = len(enc_state)\n",
    "    \n",
    "    sender_key = ''\n",
    "    receiver_key = ''\n",
    "    \n",
    "    for i in range(len(meas_result)):\n",
    "      if meas_result[i] == '1':\n",
    "        sender_key+=str(enc_state[i])\n",
    "        receiver_key+=str((meas_basis[i]+1)%2)\n",
    "        \n",
    "    return (sender_key, receiver_key)\n",
    "\n"
   ]
  },
  {
   "cell_type": "code",
   "execution_count": 193,
   "metadata": {},
   "outputs": [
    {
     "name": "stdout",
     "output_type": "stream",
     "text": [
      "Initial key length = 32\n",
      "Final average key length after 100 iterations =  7.96\n",
      "Keys are same 15 times out of 100\n",
      "Bit error rate is 23.651823176823168%\n"
     ]
    }
   ],
   "source": [
    "key_list_bob = []\n",
    "diff_bits_rate = []\n",
    "same_key = 0\n",
    "iterations = 100\n",
    "\n",
    "for index in range (0,iterations):\n",
    "\n",
    "    alice_state, eve_basis, bob_basis = create_random_states()\n",
    "\n",
    "    #Alice sends the bits to Bob but Eve eavesdrops in between\n",
    "    b92_circ = make_b92_circ(alice_state, eve_basis)\n",
    "\n",
    "    #final result got by Eve after measurement\n",
    "    eve_res = execute(\n",
    "            b92_circ.reverse_bits(),\n",
    "            backend=QasmSimulator(),\n",
    "            shots=1 \n",
    "        ).result().get_counts().most_frequent()\n",
    "    \n",
    "    eve_state = np.array(list(eve_res), dtype=int)\n",
    "\n",
    "    # Eve updates the state to send it to Bob\n",
    "#     eve_state = ''.join([str(int(eve_res[i]) ^ int(eve_basis[i])) for i in range(len(eve_res))])\n",
    "\n",
    "#     eve_state = np.array(list(eve_state), dtype=int)\n",
    "\n",
    "    #Bob measures the circuit thinking that it was sent by Alice\n",
    "    b92_circ2 = make_eaves_circ(eve_basis, eve_state, bob_basis)\n",
    "\n",
    "    bob_res = execute(\n",
    "            b92_circ2.reverse_bits(),\n",
    "            backend=QasmSimulator(),\n",
    "            shots=1\n",
    "        ).result().get_counts().most_frequent()\n",
    "    \n",
    "#     print(bob_res)\n",
    "    \n",
    "#     print(f\"Eve's result:\\t {np.array2string(eve_state, separator='')}\")\n",
    "#     print (f\"Bob's measured result:\\t {bob_res}\")\n",
    "\n",
    "    # key sifting takes place to get the final key to be used\n",
    "    alice_key, bob_key = b92_sifting(alice_state, bob_basis, bob_res)\n",
    "    \n",
    "#     print(f\"Alice's final key: \\t{alice_key}\")\n",
    "#     print(f\"Bob's final key: \\t{bob_key}\")\n",
    "    key_list_bob.append(bob_key)\n",
    "    \n",
    "    same_bit = 0\n",
    "    \n",
    "    for i in range(len(bob_key)):\n",
    "        if bob_key[i] == alice_key[i]:\n",
    "            same_bit += 1\n",
    "    diff_bits_rate.append((len(bob_key)-same_bit)/len(bob_key))\n",
    "    \n",
    "    if alice_key == bob_key:\n",
    "        same_key += 1\n",
    "    \n",
    "avg_key_length = sum( map( len, key_list_bob))/ len( key_list_bob)\n",
    "avg_bit_error = sum( diff_bits_rate)*100/ len( diff_bits_rate)\n",
    "print(f\"Initial key length = {num_qubits}\")\n",
    "print(f\"Final average key length after {iterations} iterations =  {avg_key_length}\")\n",
    "print(f\"Keys are same {same_key} times out of {iterations}\")\n",
    "print(f\"Bit error rate is {avg_bit_error}%\")\n"
   ]
  },
  {
   "cell_type": "code",
   "execution_count": 170,
   "metadata": {},
   "outputs": [
    {
     "name": "stdout",
     "output_type": "stream",
     "text": [
      "{'0000000100': 1, '1000000100': 1}\n"
     ]
    }
   ],
   "source": [
    "circ = QuantumCircuit(10)\n",
    "\n",
    "circ.h([0,3,5,7])\n",
    "circ.measure_all()\n",
    "result = execute(circ.reverse_bits(),backend=QasmSimulator(),shots=2,memory=True).result().get_counts()\n",
    "\n",
    "print(result)\n"
   ]
  },
  {
   "cell_type": "code",
   "execution_count": null,
   "metadata": {},
   "outputs": [],
   "source": []
  }
 ],
 "metadata": {
  "kernelspec": {
   "display_name": "Python 3",
   "language": "python",
   "name": "python3"
  },
  "language_info": {
   "codemirror_mode": {
    "name": "ipython",
    "version": 3
   },
   "file_extension": ".py",
   "mimetype": "text/x-python",
   "name": "python",
   "nbconvert_exporter": "python",
   "pygments_lexer": "ipython3",
   "version": "3.8.3"
  }
 },
 "nbformat": 4,
 "nbformat_minor": 4
}
