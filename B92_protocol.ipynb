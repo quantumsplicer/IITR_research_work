{
 "cells": [
  {
   "cell_type": "code",
   "execution_count": 1,
   "metadata": {},
   "outputs": [],
   "source": [
    "import numpy as np\n",
    "from qiskit import QuantumCircuit, execute\n",
    "from qiskit.providers.aer import QasmSimulator\n",
    "from qiskit.visualization import *\n",
    "import qiskit"
   ]
  },
  {
   "cell_type": "code",
   "execution_count": 14,
   "metadata": {},
   "outputs": [],
   "source": [
    "num_qubits = 64"
   ]
  },
  {
   "cell_type": "code",
   "execution_count": 15,
   "metadata": {},
   "outputs": [],
   "source": [
    "def create_random_states():\n",
    "\n",
    "    alice_state = np.random.randint(0, 2, size=num_qubits)\n",
    "    bob_basis = np.random.randint(0, 2, size=num_qubits)\n",
    "#     print(f\"Alice's State:\\t {np.array2string(alice_state, separator='')}\")\n",
    "#     print(f\"Bob's Basis:\\t {np.array2string(bob_basis, separator='')}\")\n",
    "    \n",
    "    return alice_state, bob_basis"
   ]
  },
  {
   "cell_type": "code",
   "execution_count": 16,
   "metadata": {},
   "outputs": [],
   "source": [
    "# function to define the circuit for an exchange of bit string\n",
    "def make_b92_circ(enc_state, meas_basis):\n",
    "    \n",
    "    num_qubits = len(enc_state)\n",
    "\n",
    "    b92 = QuantumCircuit(num_qubits)\n",
    "\n",
    "    for index in range(len(enc_state)):\n",
    "      if enc_state[index] == 1:\n",
    "        b92.h(index)\n",
    "\n",
    "    \n",
    "    b92.barrier()  \n",
    "\n",
    "    for index in range(len(meas_basis)):\n",
    "      if meas_basis[index] == 1:\n",
    "        b92.h(index)\n",
    "\n",
    "    # Do not change below this line\n",
    "    b92.measure_all()\n",
    "    return b92"
   ]
  },
  {
   "cell_type": "code",
   "execution_count": 17,
   "metadata": {},
   "outputs": [],
   "source": [
    "def b92_sifting(enc_state, meas_basis, meas_result):\n",
    "    \n",
    "    num_qubits = len(enc_state)\n",
    "    \n",
    "    sender_key = ''\n",
    "    receiver_key = ''\n",
    "    \n",
    "    for i in range(len(meas_result)):\n",
    "      if meas_result[i] == '1':\n",
    "        sender_key+=str(enc_state[i])\n",
    "        receiver_key+=str((meas_basis[i]+1)%2)\n",
    "        \n",
    "    return (sender_key, receiver_key)"
   ]
  },
  {
   "cell_type": "code",
   "execution_count": 18,
   "metadata": {},
   "outputs": [
    {
     "name": "stdout",
     "output_type": "stream",
     "text": [
      "Initial key length = 64\n",
      "Final average key length after 100 iterations =  13.97\n"
     ]
    }
   ],
   "source": [
    "key_list = []\n",
    "iterations = 100\n",
    "\n",
    "for index in range (0,iterations):\n",
    "\n",
    "    alice_state, bob_basis = create_random_states()\n",
    "\n",
    "    #Alice sends the bits to Bob but Eve eavesdrops in between\n",
    "    b92_circ = make_b92_circ(alice_state, bob_basis)\n",
    "\n",
    "    #final result got by Eve after measurement\n",
    "    bob_res = execute(\n",
    "            b92_circ.reverse_bits(),\n",
    "            backend=QasmSimulator(),\n",
    "            shots=1, \n",
    "            seed_simulator=10\n",
    "        ).result().get_counts().most_frequent()\n",
    "\n",
    "\n",
    "    # key sifting takes place to get the final key to be used\n",
    "    alice_key, bob_key = b92_sifting(alice_state, bob_basis, bob_res)\n",
    "    \n",
    "#     print(f\"Alice's final key: \\t{alice_key}\")\n",
    "#     print(f\"Bob's final key: \\t{bob_key}\")\n",
    "    key_list.append(bob_key)\n",
    "#     print(f\"Final key: {bob_key} \")\n",
    "    \n",
    "avg_key_length = sum( map( len, key_list))/ len( key_list)\n",
    "print(f\"Initial key length = {num_qubits}\")\n",
    "print(f\"Final average key length after {iterations} iterations =  {avg_key_length}\")"
   ]
  },
  {
   "cell_type": "code",
   "execution_count": null,
   "metadata": {},
   "outputs": [],
   "source": []
  }
 ],
 "metadata": {
  "kernelspec": {
   "display_name": "Python 3",
   "language": "python",
   "name": "python3"
  },
  "language_info": {
   "codemirror_mode": {
    "name": "ipython",
    "version": 3
   },
   "file_extension": ".py",
   "mimetype": "text/x-python",
   "name": "python",
   "nbconvert_exporter": "python",
   "pygments_lexer": "ipython3",
   "version": "3.8.3"
  }
 },
 "nbformat": 4,
 "nbformat_minor": 4
}
