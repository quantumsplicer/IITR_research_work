{
 "cells": [
  {
   "cell_type": "code",
   "execution_count": 1,
   "metadata": {},
   "outputs": [],
   "source": [
    "import numpy as np\n",
    "from qiskit import QuantumCircuit, execute\n",
    "from qiskit.providers.aer import QasmSimulator\n",
    "from qiskit.visualization import *\n",
    "import qiskit"
   ]
  },
  {
   "cell_type": "code",
   "execution_count": 42,
   "metadata": {},
   "outputs": [],
   "source": [
    "num_qubits = 32"
   ]
  },
  {
   "cell_type": "code",
   "execution_count": 79,
   "metadata": {},
   "outputs": [],
   "source": [
    "def create_random_states():\n",
    "\n",
    "    alice_state = np.random.randint(0, 2, size=num_qubits)\n",
    "    bob_basis = np.random.randint(0, 2, size=num_qubits)\n",
    "    noise_prob = 0.5\n",
    "    print(f\"Alice's State:\\t {np.array2string(alice_state, separator='')}\")\n",
    "    print(f\"Bob's Basis:\\t {np.array2string(bob_basis, separator='')}\")\n",
    "    \n",
    "    return alice_state, bob_basis, noise_prob"
   ]
  },
  {
   "cell_type": "code",
   "execution_count": 95,
   "metadata": {},
   "outputs": [],
   "source": [
    "# function to define the circuit for an exchange of bit string\n",
    "def make_b92_circ(enc_state, meas_basis, noise_prob):\n",
    "    \n",
    "    num_qubits = len(enc_state)\n",
    "\n",
    "    b92 = QuantumCircuit(num_qubits)\n",
    "\n",
    "    for index in range(len(enc_state)):\n",
    "        if enc_state[index] == 1:\n",
    "            b92.h(index)\n",
    "\n",
    "    b92.barrier()\n",
    "    \n",
    "    noise = []\n",
    "\n",
    "    for index in range(len(enc_state)):\n",
    "        if np.random.random() <= noise_prob:\n",
    "            b92.x(index)\n",
    "            noise.append(1)\n",
    "        else:\n",
    "            noise.append(0)\n",
    "            \n",
    "            \n",
    "    print(f\"Noise:\\t\\t {np.array2string(np.array(list(noise), dtype=int), separator='')}\")\n",
    "    \n",
    "    b92.barrier()  \n",
    "\n",
    "    for index in range(len(meas_basis)):\n",
    "        if meas_basis[index] == 1:\n",
    "            b92.h(index)\n",
    "\n",
    "    # Do not change below this line\n",
    "    b92.measure_all()\n",
    "    return b92"
   ]
  },
  {
   "cell_type": "code",
   "execution_count": 96,
   "metadata": {},
   "outputs": [],
   "source": [
    "def b92_sifting(enc_state, meas_basis, meas_result):\n",
    "    \n",
    "    num_qubits = len(enc_state)\n",
    "    \n",
    "    sender_key = ''\n",
    "    receiver_key = ''\n",
    "    \n",
    "    for i in range(len(meas_result)):\n",
    "      if meas_result[i] == '1':\n",
    "        sender_key+=str(enc_state[i])\n",
    "        receiver_key+=str((meas_basis[i]+1)%2)\n",
    "        \n",
    "    return (sender_key, receiver_key)"
   ]
  },
  {
   "cell_type": "code",
   "execution_count": 100,
   "metadata": {},
   "outputs": [
    {
     "name": "stdout",
     "output_type": "stream",
     "text": [
      "Alice's State:\t [01001101111001010000111111110100]\n",
      "Bob's Basis:\t [01111101110010100111011001111100]\n",
      "Noise:\t\t [01000111110100011010110011110001]\n",
      "Bob's result:\t [00100010001110011100100010001001]\n",
      "Initial key length = 32\n",
      "Final average key length after 1 iterations =  12.0\n"
     ]
    }
   ],
   "source": [
    "key_list = []\n",
    "iterations = 1\n",
    "\n",
    "for index in range (0,iterations):\n",
    "\n",
    "    alice_state, bob_basis, noise_prob = create_random_states()\n",
    "\n",
    "    #Alice sends the bits to Bob but Eve eavesdrops in between\n",
    "    b92_circ = make_b92_circ(alice_state, bob_basis, noise_prob)\n",
    "\n",
    "    #final result got by Eve after measurement\n",
    "    bob_res = execute(\n",
    "            b92_circ.reverse_bits(),\n",
    "            backend=QasmSimulator(),\n",
    "            shots=1, \n",
    "            seed_simulator=10\n",
    "        ).result().get_counts().most_frequent()\n",
    "\n",
    "    print(f\"Bob's result:\\t [{bob_res}]\")\n",
    "    # key sifting takes place to get the final key to be used\n",
    "    alice_key, bob_key = b92_sifting(alice_state, bob_basis, bob_res)\n",
    "    \n",
    "#     print(f\"Alice's final key: \\t{alice_key}\")\n",
    "#     print(f\"Bob's final key: \\t{bob_key}\")\n",
    "    key_list.append(bob_key)\n",
    "#     print(f\"Final key: {bob_key} \")\n",
    "    \n",
    "avg_key_length = sum( map( len, key_list))/ len( key_list)\n",
    "print(f\"Initial key length = {num_qubits}\")\n",
    "print(f\"Final average key length after {iterations} iterations =  {avg_key_length}\")"
   ]
  },
  {
   "cell_type": "code",
   "execution_count": null,
   "metadata": {},
   "outputs": [],
   "source": []
  }
 ],
 "metadata": {
  "kernelspec": {
   "display_name": "Python 3 (ipykernel)",
   "language": "python",
   "name": "python3"
  },
  "language_info": {
   "codemirror_mode": {
    "name": "ipython",
    "version": 3
   },
   "file_extension": ".py",
   "mimetype": "text/x-python",
   "name": "python",
   "nbconvert_exporter": "python",
   "pygments_lexer": "ipython3",
   "version": "3.8.10"
  }
 },
 "nbformat": 4,
 "nbformat_minor": 4
}
